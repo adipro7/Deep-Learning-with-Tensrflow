{
  "nbformat": 4,
  "nbformat_minor": 0,
  "metadata": {
    "kernelspec": {
      "display_name": "Python 3",
      "language": "python",
      "name": "python3"
    },
    "language_info": {
      "codemirror_mode": {
        "name": "ipython",
        "version": 3
      },
      "file_extension": ".py",
      "mimetype": "text/x-python",
      "name": "python",
      "nbconvert_exporter": "python",
      "pygments_lexer": "ipython3",
      "version": "3.5.6"
    },
    "colab": {
      "name": "mnist cnn.ipynb",
      "provenance": []
    }
  },
  "cells": [
    {
      "cell_type": "markdown",
      "metadata": {
        "id": "iRLRPt5g0dNC",
        "colab_type": "text"
      },
      "source": [
        "# MNIST CNN. Using this CNN model handwritten digits are recognized with > 99% accuracy"
      ]
    },
    {
      "cell_type": "code",
      "metadata": {
        "id": "bXI4_sbb0dNz",
        "colab_type": "code",
        "colab": {
          "base_uri": "https://localhost:8080/",
          "height": 105
        },
        "outputId": "ec1a60ff-24ac-45c0-fc06-536aa7730e9b"
      },
      "source": [
        "import tensorflow.compat.v1 as tf\n",
        "tf.disable_v2_behavior()"
      ],
      "execution_count": 27,
      "outputs": [
        {
          "output_type": "stream",
          "text": [
            "WARNING:tensorflow:From /tensorflow-1.15.0/python3.6/tensorflow_core/python/compat/v2_compat.py:68: disable_resource_variables (from tensorflow.python.ops.variable_scope) is deprecated and will be removed in a future version.\n",
            "Instructions for updating:\n",
            "non-resource variables are not supported in the long term\n",
            "ERROR! Session/line number was not unique in database. History logging moved to new session 59\n"
          ],
          "name": "stdout"
        }
      ]
    },
    {
      "cell_type": "code",
      "metadata": {
        "id": "tyvZrvlz0dOG",
        "colab_type": "code",
        "colab": {}
      },
      "source": [
        "from tensorflow.examples.tutorials.mnist import input_data"
      ],
      "execution_count": 0,
      "outputs": []
    },
    {
      "cell_type": "code",
      "metadata": {
        "scrolled": true,
        "id": "cdtzxUue0dOR",
        "colab_type": "code",
        "colab": {
          "base_uri": "https://localhost:8080/",
          "height": 85
        },
        "outputId": "627bf6b9-0017-4f12-bf50-01d0ef231423"
      },
      "source": [
        "mnist=input_data.read_data_sets('MNIST_data/',one_hot=True)"
      ],
      "execution_count": 29,
      "outputs": [
        {
          "output_type": "stream",
          "text": [
            "Extracting MNIST_data/train-images-idx3-ubyte.gz\n",
            "Extracting MNIST_data/train-labels-idx1-ubyte.gz\n",
            "Extracting MNIST_data/t10k-images-idx3-ubyte.gz\n",
            "Extracting MNIST_data/t10k-labels-idx1-ubyte.gz\n"
          ],
          "name": "stdout"
        }
      ]
    },
    {
      "cell_type": "code",
      "metadata": {
        "id": "PHjvfqMq0dOg",
        "colab_type": "code",
        "colab": {}
      },
      "source": [
        "#HELPER FUNCTIONS"
      ],
      "execution_count": 0,
      "outputs": []
    },
    {
      "cell_type": "code",
      "metadata": {
        "id": "-9eT4RLf0dOr",
        "colab_type": "code",
        "colab": {}
      },
      "source": [
        "#INITIALIZE WEIGHTS\n",
        "def init_weights(shape):\n",
        "    init_random_dist=tf.truncated_normal(shape,stddev=0.1)\n",
        "    return tf.Variable(init_random_dist)"
      ],
      "execution_count": 0,
      "outputs": []
    },
    {
      "cell_type": "code",
      "metadata": {
        "id": "q_YiVqDN0dO5",
        "colab_type": "code",
        "colab": {}
      },
      "source": [
        "#INITIALIZE BIAS\n",
        "def init_bias(shape):\n",
        "    init_bias_vals=tf.constant(0.1,shape=shape)\n",
        "    return tf.Variable(init_bias_vals)"
      ],
      "execution_count": 0,
      "outputs": []
    },
    {
      "cell_type": "code",
      "metadata": {
        "id": "TFXcPq5r0dPK",
        "colab_type": "code",
        "colab": {}
      },
      "source": [
        "#CONVOLUTION 2D\n",
        "def conv2d(x,W):\n",
        "    # x --> Input Tensor [batch,H,W,Channels]\n",
        "    # W --> Kernel [filter H, filter W, Channel IN, Channel OUT]\n",
        "    return tf.nn.conv2d(x,W,strides=[1,1,1,1], padding='SAME')"
      ],
      "execution_count": 0,
      "outputs": []
    },
    {
      "cell_type": "code",
      "metadata": {
        "id": "bcpT8jzS0dPX",
        "colab_type": "code",
        "colab": {}
      },
      "source": [
        "#POOLING\n",
        "def max_pool_2by2(x):\n",
        "    # x--->[batch,h,w,c]\n",
        "    return tf.nn.max_pool(x,ksize=[1,2,2,1],strides=[1,2,2,1],\n",
        "                          padding='SAME')"
      ],
      "execution_count": 0,
      "outputs": []
    },
    {
      "cell_type": "code",
      "metadata": {
        "id": "6iQDj0-30dPj",
        "colab_type": "code",
        "colab": {}
      },
      "source": [
        "#CONVOLUTIONAL LAYER()\n",
        "def convolutional_layer(input_x,shape):\n",
        "    W=init_weights(shape)\n",
        "    b=init_bias([shape[3]])\n",
        "    return tf.nn.relu(conv2d(input_x,W)+b)"
      ],
      "execution_count": 0,
      "outputs": []
    },
    {
      "cell_type": "code",
      "metadata": {
        "id": "__I8PoBE0dPy",
        "colab_type": "code",
        "colab": {}
      },
      "source": [
        "#NORMAL (FULLY CONNECTED)\n",
        "def normal_full_layer(input_layer,size):\n",
        "    input_size=int(input_layer.get_shape()[1])\n",
        "    W=init_weights([input_size,size])\n",
        "    b=init_bias([size])\n",
        "    return tf.matmul(input_layer,W)+b"
      ],
      "execution_count": 0,
      "outputs": []
    },
    {
      "cell_type": "code",
      "metadata": {
        "id": "WK_T16PQ0dP_",
        "colab_type": "code",
        "colab": {}
      },
      "source": [
        "#PLACEHOLDERS\n",
        "x=tf.placeholder(tf.float32,shape=[None,784])"
      ],
      "execution_count": 0,
      "outputs": []
    },
    {
      "cell_type": "code",
      "metadata": {
        "id": "0J6_V9Ru0dQI",
        "colab_type": "code",
        "colab": {}
      },
      "source": [
        "y_true=tf.placeholder(tf.float32,shape=[None,10])"
      ],
      "execution_count": 0,
      "outputs": []
    },
    {
      "cell_type": "code",
      "metadata": {
        "id": "HbYju0MI0dQQ",
        "colab_type": "code",
        "colab": {}
      },
      "source": [
        "#LAYERS\n",
        "x_image=tf.reshape(x,[-1,28,28,1])"
      ],
      "execution_count": 0,
      "outputs": []
    },
    {
      "cell_type": "code",
      "metadata": {
        "id": "N4z-hP4A0dQY",
        "colab_type": "code",
        "colab": {}
      },
      "source": [
        "convo1=convolutional_layer(x_image,shape=[5,5,1,32])\n",
        "convo1_pooling=max_pool_2by2(convo1)"
      ],
      "execution_count": 0,
      "outputs": []
    },
    {
      "cell_type": "code",
      "metadata": {
        "id": "vHm-H-LD0dQh",
        "colab_type": "code",
        "colab": {}
      },
      "source": [
        "convo2=convolutional_layer(convo1_pooling,shape=[5,5,32,64])\n",
        "convo2_pooling=max_pool_2by2(convo2)"
      ],
      "execution_count": 0,
      "outputs": []
    },
    {
      "cell_type": "code",
      "metadata": {
        "id": "BldAY6ST0dQp",
        "colab_type": "code",
        "colab": {}
      },
      "source": [
        "convo2_flat=tf.reshape(convo2_pooling,[-1,7*7*64])\n",
        "full_layer_one=tf.nn.relu(normal_full_layer(convo2_flat,1024))"
      ],
      "execution_count": 0,
      "outputs": []
    },
    {
      "cell_type": "code",
      "metadata": {
        "id": "9XSd2fVk0dQz",
        "colab_type": "code",
        "colab": {}
      },
      "source": [
        "#DROPOUT\n",
        "hold_prob=tf.placeholder(tf.float32)\n",
        "full_one_dropout=tf.nn.dropout(full_layer_one,keep_prob=hold_prob)"
      ],
      "execution_count": 0,
      "outputs": []
    },
    {
      "cell_type": "code",
      "metadata": {
        "id": "2bCWRJ-40dRC",
        "colab_type": "code",
        "colab": {}
      },
      "source": [
        "y_pred=normal_full_layer(full_one_dropout,10)"
      ],
      "execution_count": 0,
      "outputs": []
    },
    {
      "cell_type": "code",
      "metadata": {
        "id": "yL0trMCU0dRP",
        "colab_type": "code",
        "colab": {}
      },
      "source": [
        "#LOSS FUNCTION\n",
        "cross_entropy=tf.reduce_mean(tf.nn.softmax_cross_entropy_with_logits(\n",
        "labels=y_true,logits=y_pred))"
      ],
      "execution_count": 0,
      "outputs": []
    },
    {
      "cell_type": "code",
      "metadata": {
        "id": "iOoEmcp30dRY",
        "colab_type": "code",
        "colab": {}
      },
      "source": [
        "#OPTIMIZER\n",
        "optimizer=tf.train.AdamOptimizer(learning_rate=0.001)\n",
        "train=optimizer.minimize(cross_entropy)"
      ],
      "execution_count": 0,
      "outputs": []
    },
    {
      "cell_type": "code",
      "metadata": {
        "id": "ufHa4Mf80dRg",
        "colab_type": "code",
        "colab": {}
      },
      "source": [
        "init=tf.global_variables_initializer()"
      ],
      "execution_count": 0,
      "outputs": []
    },
    {
      "cell_type": "code",
      "metadata": {
        "id": "T5jnqOna0dRs",
        "colab_type": "code",
        "colab": {
          "base_uri": "https://localhost:8080/",
          "height": 1000
        },
        "outputId": "b97dafc3-5723-4995-f135-26ed5347691e"
      },
      "source": [
        "steps=5000\n",
        "with tf.Session() as sess:\n",
        "    sess.run(init)\n",
        "    for i in range(steps):\n",
        "        batch_x,batch_y=mnist.train.next_batch(50)\n",
        "        sess.run(train,feed_dict={x:batch_x,y_true:batch_y,\n",
        "                                  hold_prob:0.5})\n",
        "        if i%100==0:\n",
        "            print(\"ON STEP : {}\".format(i))\n",
        "            print(\"ACCURACY:\")\n",
        "            matches=tf.equal(tf.argmax(y_pred,1),tf.argmax(y_true,1))\n",
        "            acc=tf.reduce_mean(tf.cast(matches,tf.float32))\n",
        "            print(sess.run(acc,feed_dict={x:mnist.test.images,\n",
        "                                          y_true:mnist.test.labels,\n",
        "                                         hold_prob:1.0}))\n",
        "            print('\\n')"
      ],
      "execution_count": 26,
      "outputs": [
        {
          "output_type": "stream",
          "text": [
            "ON STEP : 0\n",
            "ACCURACY:\n",
            "0.2122\n",
            "\n",
            "\n",
            "ON STEP : 100\n",
            "ACCURACY:\n",
            "0.9454\n",
            "\n",
            "\n",
            "ON STEP : 200\n",
            "ACCURACY:\n",
            "0.964\n",
            "\n",
            "\n",
            "ON STEP : 300\n",
            "ACCURACY:\n",
            "0.9704\n",
            "\n",
            "\n",
            "ON STEP : 400\n",
            "ACCURACY:\n",
            "0.9741\n",
            "\n",
            "\n",
            "ON STEP : 500\n",
            "ACCURACY:\n",
            "0.9786\n",
            "\n",
            "\n",
            "ON STEP : 600\n",
            "ACCURACY:\n",
            "0.9806\n",
            "\n",
            "\n",
            "ON STEP : 700\n",
            "ACCURACY:\n",
            "0.9819\n",
            "\n",
            "\n",
            "ON STEP : 800\n",
            "ACCURACY:\n",
            "0.9791\n",
            "\n",
            "\n",
            "ON STEP : 900\n",
            "ACCURACY:\n",
            "0.9785\n",
            "\n",
            "\n",
            "ON STEP : 1000\n",
            "ACCURACY:\n",
            "0.9841\n",
            "\n",
            "\n",
            "ON STEP : 1100\n",
            "ACCURACY:\n",
            "0.9838\n",
            "\n",
            "\n",
            "ON STEP : 1200\n",
            "ACCURACY:\n",
            "0.9846\n",
            "\n",
            "\n",
            "ON STEP : 1300\n",
            "ACCURACY:\n",
            "0.9839\n",
            "\n",
            "\n",
            "ON STEP : 1400\n",
            "ACCURACY:\n",
            "0.9873\n",
            "\n",
            "\n",
            "ON STEP : 1500\n",
            "ACCURACY:\n",
            "0.9855\n",
            "\n",
            "\n",
            "ON STEP : 1600\n",
            "ACCURACY:\n",
            "0.9864\n",
            "\n",
            "\n",
            "ON STEP : 1700\n",
            "ACCURACY:\n",
            "0.9863\n",
            "\n",
            "\n",
            "ON STEP : 1800\n",
            "ACCURACY:\n",
            "0.982\n",
            "\n",
            "\n",
            "ON STEP : 1900\n",
            "ACCURACY:\n",
            "0.9846\n",
            "\n",
            "\n",
            "ON STEP : 2000\n",
            "ACCURACY:\n",
            "0.9877\n",
            "\n",
            "\n",
            "ON STEP : 2100\n",
            "ACCURACY:\n",
            "0.9892\n",
            "\n",
            "\n",
            "ON STEP : 2200\n",
            "ACCURACY:\n",
            "0.9891\n",
            "\n",
            "\n",
            "ON STEP : 2300\n",
            "ACCURACY:\n",
            "0.9871\n",
            "\n",
            "\n",
            "ON STEP : 2400\n",
            "ACCURACY:\n",
            "0.9893\n",
            "\n",
            "\n",
            "ON STEP : 2500\n",
            "ACCURACY:\n",
            "0.9865\n",
            "\n",
            "\n",
            "ON STEP : 2600\n",
            "ACCURACY:\n",
            "0.9902\n",
            "\n",
            "\n",
            "ON STEP : 2700\n",
            "ACCURACY:\n",
            "0.9885\n",
            "\n",
            "\n",
            "ON STEP : 2800\n",
            "ACCURACY:\n",
            "0.9886\n",
            "\n",
            "\n",
            "ON STEP : 2900\n",
            "ACCURACY:\n",
            "0.9891\n",
            "\n",
            "\n",
            "ON STEP : 3000\n",
            "ACCURACY:\n",
            "0.9898\n",
            "\n",
            "\n",
            "ON STEP : 3100\n",
            "ACCURACY:\n",
            "0.9869\n",
            "\n",
            "\n",
            "ON STEP : 3200\n",
            "ACCURACY:\n",
            "0.9878\n",
            "\n",
            "\n",
            "ON STEP : 3300\n",
            "ACCURACY:\n",
            "0.9889\n",
            "\n",
            "\n",
            "ON STEP : 3400\n",
            "ACCURACY:\n",
            "0.9878\n",
            "\n",
            "\n",
            "ON STEP : 3500\n",
            "ACCURACY:\n",
            "0.9893\n",
            "\n",
            "\n",
            "ON STEP : 3600\n",
            "ACCURACY:\n",
            "0.9901\n",
            "\n",
            "\n",
            "ON STEP : 3700\n",
            "ACCURACY:\n",
            "0.9907\n",
            "\n",
            "\n",
            "ON STEP : 3800\n",
            "ACCURACY:\n",
            "0.988\n",
            "\n",
            "\n",
            "ON STEP : 3900\n",
            "ACCURACY:\n",
            "0.9914\n",
            "\n",
            "\n",
            "ON STEP : 4000\n",
            "ACCURACY:\n",
            "0.99\n",
            "\n",
            "\n",
            "ON STEP : 4100\n",
            "ACCURACY:\n",
            "0.989\n",
            "\n",
            "\n",
            "ON STEP : 4200\n",
            "ACCURACY:\n",
            "0.9902\n",
            "\n",
            "\n",
            "ON STEP : 4300\n",
            "ACCURACY:\n",
            "0.988\n",
            "\n",
            "\n",
            "ON STEP : 4400\n",
            "ACCURACY:\n",
            "0.9902\n",
            "\n",
            "\n",
            "ON STEP : 4500\n",
            "ACCURACY:\n",
            "0.9905\n",
            "\n",
            "\n",
            "ON STEP : 4600\n",
            "ACCURACY:\n",
            "0.9901\n",
            "\n",
            "\n",
            "ON STEP : 4700\n",
            "ACCURACY:\n",
            "0.9898\n",
            "\n",
            "\n",
            "ON STEP : 4800\n",
            "ACCURACY:\n",
            "0.9901\n",
            "\n",
            "\n",
            "ON STEP : 4900\n",
            "ACCURACY:\n",
            "0.9895\n",
            "\n",
            "\n"
          ],
          "name": "stdout"
        }
      ]
    },
    {
      "cell_type": "code",
      "metadata": {
        "id": "BRE3paoH0dR4",
        "colab_type": "code",
        "colab": {}
      },
      "source": [
        ""
      ],
      "execution_count": 0,
      "outputs": []
    }
  ]
}