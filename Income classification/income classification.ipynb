{
 "cells": [
  {
   "cell_type": "markdown",
   "metadata": {},
   "source": [
    "# Based on Census Dataset, I have predicted whether a person has a income greater than 50,000 USD or not- i.e. Classification(Precision ~ 85%). "
   ]
  },
  {
   "cell_type": "code",
   "execution_count": 1,
   "metadata": {},
   "outputs": [],
   "source": [
    "import pandas as pd"
   ]
  },
  {
   "cell_type": "code",
   "execution_count": 2,
   "metadata": {},
   "outputs": [],
   "source": [
    "data=pd.read_csv('census_data.csv')"
   ]
  },
  {
   "cell_type": "code",
   "execution_count": 3,
   "metadata": {},
   "outputs": [
    {
     "data": {
      "text/html": [
       "<div>\n",
       "<style scoped>\n",
       "    .dataframe tbody tr th:only-of-type {\n",
       "        vertical-align: middle;\n",
       "    }\n",
       "\n",
       "    .dataframe tbody tr th {\n",
       "        vertical-align: top;\n",
       "    }\n",
       "\n",
       "    .dataframe thead th {\n",
       "        text-align: right;\n",
       "    }\n",
       "</style>\n",
       "<table border=\"1\" class=\"dataframe\">\n",
       "  <thead>\n",
       "    <tr style=\"text-align: right;\">\n",
       "      <th></th>\n",
       "      <th>age</th>\n",
       "      <th>workclass</th>\n",
       "      <th>education</th>\n",
       "      <th>education_num</th>\n",
       "      <th>marital_status</th>\n",
       "      <th>occupation</th>\n",
       "      <th>relationship</th>\n",
       "      <th>race</th>\n",
       "      <th>gender</th>\n",
       "      <th>capital_gain</th>\n",
       "      <th>capital_loss</th>\n",
       "      <th>hours_per_week</th>\n",
       "      <th>native_country</th>\n",
       "      <th>income_bracket</th>\n",
       "    </tr>\n",
       "  </thead>\n",
       "  <tbody>\n",
       "    <tr>\n",
       "      <th>0</th>\n",
       "      <td>39</td>\n",
       "      <td>State-gov</td>\n",
       "      <td>Bachelors</td>\n",
       "      <td>13</td>\n",
       "      <td>Never-married</td>\n",
       "      <td>Adm-clerical</td>\n",
       "      <td>Not-in-family</td>\n",
       "      <td>White</td>\n",
       "      <td>Male</td>\n",
       "      <td>2174</td>\n",
       "      <td>0</td>\n",
       "      <td>40</td>\n",
       "      <td>United-States</td>\n",
       "      <td>&lt;=50K</td>\n",
       "    </tr>\n",
       "    <tr>\n",
       "      <th>1</th>\n",
       "      <td>50</td>\n",
       "      <td>Self-emp-not-inc</td>\n",
       "      <td>Bachelors</td>\n",
       "      <td>13</td>\n",
       "      <td>Married-civ-spouse</td>\n",
       "      <td>Exec-managerial</td>\n",
       "      <td>Husband</td>\n",
       "      <td>White</td>\n",
       "      <td>Male</td>\n",
       "      <td>0</td>\n",
       "      <td>0</td>\n",
       "      <td>13</td>\n",
       "      <td>United-States</td>\n",
       "      <td>&lt;=50K</td>\n",
       "    </tr>\n",
       "    <tr>\n",
       "      <th>2</th>\n",
       "      <td>38</td>\n",
       "      <td>Private</td>\n",
       "      <td>HS-grad</td>\n",
       "      <td>9</td>\n",
       "      <td>Divorced</td>\n",
       "      <td>Handlers-cleaners</td>\n",
       "      <td>Not-in-family</td>\n",
       "      <td>White</td>\n",
       "      <td>Male</td>\n",
       "      <td>0</td>\n",
       "      <td>0</td>\n",
       "      <td>40</td>\n",
       "      <td>United-States</td>\n",
       "      <td>&lt;=50K</td>\n",
       "    </tr>\n",
       "    <tr>\n",
       "      <th>3</th>\n",
       "      <td>53</td>\n",
       "      <td>Private</td>\n",
       "      <td>11th</td>\n",
       "      <td>7</td>\n",
       "      <td>Married-civ-spouse</td>\n",
       "      <td>Handlers-cleaners</td>\n",
       "      <td>Husband</td>\n",
       "      <td>Black</td>\n",
       "      <td>Male</td>\n",
       "      <td>0</td>\n",
       "      <td>0</td>\n",
       "      <td>40</td>\n",
       "      <td>United-States</td>\n",
       "      <td>&lt;=50K</td>\n",
       "    </tr>\n",
       "    <tr>\n",
       "      <th>4</th>\n",
       "      <td>28</td>\n",
       "      <td>Private</td>\n",
       "      <td>Bachelors</td>\n",
       "      <td>13</td>\n",
       "      <td>Married-civ-spouse</td>\n",
       "      <td>Prof-specialty</td>\n",
       "      <td>Wife</td>\n",
       "      <td>Black</td>\n",
       "      <td>Female</td>\n",
       "      <td>0</td>\n",
       "      <td>0</td>\n",
       "      <td>40</td>\n",
       "      <td>Cuba</td>\n",
       "      <td>&lt;=50K</td>\n",
       "    </tr>\n",
       "  </tbody>\n",
       "</table>\n",
       "</div>"
      ],
      "text/plain": [
       "   age          workclass   education  education_num       marital_status  \\\n",
       "0   39          State-gov   Bachelors             13        Never-married   \n",
       "1   50   Self-emp-not-inc   Bachelors             13   Married-civ-spouse   \n",
       "2   38            Private     HS-grad              9             Divorced   \n",
       "3   53            Private        11th              7   Married-civ-spouse   \n",
       "4   28            Private   Bachelors             13   Married-civ-spouse   \n",
       "\n",
       "           occupation    relationship    race   gender  capital_gain  \\\n",
       "0        Adm-clerical   Not-in-family   White     Male          2174   \n",
       "1     Exec-managerial         Husband   White     Male             0   \n",
       "2   Handlers-cleaners   Not-in-family   White     Male             0   \n",
       "3   Handlers-cleaners         Husband   Black     Male             0   \n",
       "4      Prof-specialty            Wife   Black   Female             0   \n",
       "\n",
       "   capital_loss  hours_per_week  native_country income_bracket  \n",
       "0             0              40   United-States          <=50K  \n",
       "1             0              13   United-States          <=50K  \n",
       "2             0              40   United-States          <=50K  \n",
       "3             0              40   United-States          <=50K  \n",
       "4             0              40            Cuba          <=50K  "
      ]
     },
     "execution_count": 3,
     "metadata": {},
     "output_type": "execute_result"
    }
   ],
   "source": [
    "data.head()"
   ]
  },
  {
   "cell_type": "code",
   "execution_count": 4,
   "metadata": {},
   "outputs": [],
   "source": [
    "def condition(value):\n",
    "    if value==' <=50K':\n",
    "        return 0\n",
    "    else:\n",
    "        return 1\n",
    "data['income_bracket']=data['income_bracket'].apply(condition)"
   ]
  },
  {
   "cell_type": "code",
   "execution_count": 5,
   "metadata": {},
   "outputs": [],
   "source": [
    "from sklearn.model_selection import train_test_split"
   ]
  },
  {
   "cell_type": "code",
   "execution_count": 6,
   "metadata": {},
   "outputs": [],
   "source": [
    "x_data=data.drop(['income_bracket'],axis=1)\n",
    "y_data=data['income_bracket']"
   ]
  },
  {
   "cell_type": "code",
   "execution_count": 7,
   "metadata": {},
   "outputs": [],
   "source": [
    "x_train,x_test,y_train,y_test=train_test_split(x_data,y_data,test_size=0.3,random_state=101)"
   ]
  },
  {
   "cell_type": "code",
   "execution_count": 8,
   "metadata": {},
   "outputs": [
    {
     "data": {
      "text/plain": [
       "Index(['age', 'workclass', 'education', 'education_num', 'marital_status',\n",
       "       'occupation', 'relationship', 'race', 'gender', 'capital_gain',\n",
       "       'capital_loss', 'hours_per_week', 'native_country', 'income_bracket'],\n",
       "      dtype='object')"
      ]
     },
     "execution_count": 8,
     "metadata": {},
     "output_type": "execute_result"
    }
   ],
   "source": [
    "data.columns"
   ]
  },
  {
   "cell_type": "code",
   "execution_count": 9,
   "metadata": {},
   "outputs": [],
   "source": [
    "import tensorflow as tf"
   ]
  },
  {
   "cell_type": "code",
   "execution_count": 10,
   "metadata": {},
   "outputs": [],
   "source": [
    "workclass=tf.feature_column.categorical_column_with_hash_bucket('workclass',hash_bucket_size=1000)\n",
    "education=tf.feature_column.categorical_column_with_hash_bucket('education',hash_bucket_size=1000)\n",
    "married=tf.feature_column.categorical_column_with_hash_bucket('marital_status',hash_bucket_size=1000)\n",
    "occupation=tf.feature_column.categorical_column_with_hash_bucket('occupation',hash_bucket_size=1000)\n",
    "relationship=tf.feature_column.categorical_column_with_hash_bucket('relationship',hash_bucket_size=1000)\n",
    "gender=tf.feature_column.categorical_column_with_hash_bucket('gender',hash_bucket_size=1000)\n",
    "native=tf.feature_column.categorical_column_with_hash_bucket('native_country',hash_bucket_size=1000)"
   ]
  },
  {
   "cell_type": "code",
   "execution_count": 11,
   "metadata": {},
   "outputs": [],
   "source": [
    "age=tf.feature_column.numeric_column('age')\n",
    "edu_num=tf.feature_column.numeric_column('education_num')\n",
    "cap_gain=tf.feature_column.numeric_column('capital_gain')\n",
    "cap_loss=tf.feature_column.numeric_column('capital_loss')\n",
    "hours=tf.feature_column.numeric_column('hours_per_week')"
   ]
  },
  {
   "cell_type": "code",
   "execution_count": 12,
   "metadata": {},
   "outputs": [],
   "source": [
    "feat_cols=[age,workclass,education,edu_num,married,occupation,relationship,\n",
    "           gender,cap_gain,cap_loss,hours,native]"
   ]
  },
  {
   "cell_type": "code",
   "execution_count": 13,
   "metadata": {},
   "outputs": [],
   "source": [
    "input_func=tf.estimator.inputs.pandas_input_fn(x=x_train,y=y_train,batch_size=10,num_epochs=None\n",
    "                            ,shuffle=True)"
   ]
  },
  {
   "cell_type": "code",
   "execution_count": 14,
   "metadata": {},
   "outputs": [
    {
     "name": "stdout",
     "output_type": "stream",
     "text": [
      "INFO:tensorflow:Using default config.\n",
      "WARNING:tensorflow:Using temporary folder as model directory: /tmp/tmpgrldmbrm\n",
      "INFO:tensorflow:Using config: {'_session_config': None, '_save_checkpoints_secs': 600, '_save_summary_steps': 100, '_keep_checkpoint_every_n_hours': 10000, '_log_step_count_steps': 100, '_tf_random_seed': 1, '_save_checkpoints_steps': None, '_model_dir': '/tmp/tmpgrldmbrm', '_keep_checkpoint_max': 5}\n"
     ]
    }
   ],
   "source": [
    "model=tf.estimator.LinearClassifier(feature_columns=feat_cols)"
   ]
  },
  {
   "cell_type": "code",
   "execution_count": 15,
   "metadata": {},
   "outputs": [
    {
     "name": "stdout",
     "output_type": "stream",
     "text": [
      "INFO:tensorflow:Create CheckpointSaverHook.\n",
      "INFO:tensorflow:Saving checkpoints for 1 into /tmp/tmpgrldmbrm/model.ckpt.\n",
      "INFO:tensorflow:step = 1, loss = 6.931472\n",
      "INFO:tensorflow:global_step/sec: 93.5655\n",
      "INFO:tensorflow:step = 101, loss = 5.04101 (1.071 sec)\n",
      "INFO:tensorflow:global_step/sec: 118.658\n",
      "INFO:tensorflow:step = 201, loss = 36.148296 (0.843 sec)\n",
      "INFO:tensorflow:global_step/sec: 117.428\n",
      "INFO:tensorflow:step = 301, loss = 2.7402396 (0.851 sec)\n",
      "INFO:tensorflow:global_step/sec: 119.557\n",
      "INFO:tensorflow:step = 401, loss = 256.3028 (0.838 sec)\n",
      "INFO:tensorflow:global_step/sec: 116.754\n",
      "INFO:tensorflow:step = 501, loss = 2.7778041 (0.856 sec)\n",
      "INFO:tensorflow:global_step/sec: 116.503\n",
      "INFO:tensorflow:step = 601, loss = 9.409997 (0.859 sec)\n",
      "INFO:tensorflow:global_step/sec: 114.016\n",
      "INFO:tensorflow:step = 701, loss = 6.537586 (0.877 sec)\n",
      "INFO:tensorflow:global_step/sec: 112.817\n",
      "INFO:tensorflow:step = 801, loss = 45.546196 (0.887 sec)\n",
      "INFO:tensorflow:global_step/sec: 119.002\n",
      "INFO:tensorflow:step = 901, loss = 4.144074 (0.847 sec)\n",
      "INFO:tensorflow:global_step/sec: 112.826\n",
      "INFO:tensorflow:step = 1001, loss = 5.326137 (0.879 sec)\n",
      "INFO:tensorflow:global_step/sec: 117.194\n",
      "INFO:tensorflow:step = 1101, loss = 2.20446 (0.853 sec)\n",
      "INFO:tensorflow:global_step/sec: 110.703\n",
      "INFO:tensorflow:step = 1201, loss = 31.548618 (0.903 sec)\n",
      "INFO:tensorflow:global_step/sec: 111.415\n",
      "INFO:tensorflow:step = 1301, loss = 7.04116 (0.898 sec)\n",
      "INFO:tensorflow:global_step/sec: 111.877\n",
      "INFO:tensorflow:step = 1401, loss = 36.61973 (0.893 sec)\n",
      "INFO:tensorflow:global_step/sec: 109.868\n",
      "INFO:tensorflow:step = 1501, loss = 1.8279448 (0.920 sec)\n",
      "INFO:tensorflow:global_step/sec: 117.06\n",
      "INFO:tensorflow:step = 1601, loss = 5.4669037 (0.845 sec)\n",
      "INFO:tensorflow:global_step/sec: 115.747\n",
      "INFO:tensorflow:step = 1701, loss = 6.8948693 (0.864 sec)\n",
      "INFO:tensorflow:global_step/sec: 114.302\n",
      "INFO:tensorflow:step = 1801, loss = 11.711325 (0.875 sec)\n",
      "INFO:tensorflow:global_step/sec: 122.1\n",
      "INFO:tensorflow:step = 1901, loss = 224.66974 (0.825 sec)\n",
      "INFO:tensorflow:global_step/sec: 115.171\n",
      "INFO:tensorflow:step = 2001, loss = 89.445435 (0.862 sec)\n",
      "INFO:tensorflow:global_step/sec: 113.72\n",
      "INFO:tensorflow:step = 2101, loss = 11.623449 (0.880 sec)\n",
      "INFO:tensorflow:global_step/sec: 113.029\n",
      "INFO:tensorflow:step = 2201, loss = 5.06417 (0.885 sec)\n",
      "INFO:tensorflow:global_step/sec: 112.694\n",
      "INFO:tensorflow:step = 2301, loss = 1.7175436 (0.887 sec)\n",
      "INFO:tensorflow:global_step/sec: 114.259\n",
      "INFO:tensorflow:step = 2401, loss = 7.2722845 (0.875 sec)\n",
      "INFO:tensorflow:global_step/sec: 127.126\n",
      "INFO:tensorflow:step = 2501, loss = 1.8017453 (0.787 sec)\n",
      "INFO:tensorflow:global_step/sec: 112.465\n",
      "INFO:tensorflow:step = 2601, loss = 2.6444967 (0.897 sec)\n",
      "INFO:tensorflow:global_step/sec: 112.892\n",
      "INFO:tensorflow:step = 2701, loss = 7.0448446 (0.878 sec)\n",
      "INFO:tensorflow:global_step/sec: 114.407\n",
      "INFO:tensorflow:step = 2801, loss = 120.676285 (0.874 sec)\n",
      "INFO:tensorflow:global_step/sec: 112.644\n",
      "INFO:tensorflow:step = 2901, loss = 0.15771767 (0.900 sec)\n",
      "INFO:tensorflow:global_step/sec: 111.955\n",
      "INFO:tensorflow:step = 3001, loss = 1.2076119 (0.887 sec)\n",
      "INFO:tensorflow:global_step/sec: 120.154\n",
      "INFO:tensorflow:step = 3101, loss = 1.5929408 (0.826 sec)\n",
      "INFO:tensorflow:global_step/sec: 126.275\n",
      "INFO:tensorflow:step = 3201, loss = 2.1951199 (0.792 sec)\n",
      "INFO:tensorflow:global_step/sec: 116.077\n",
      "INFO:tensorflow:step = 3301, loss = 4.8630714 (0.861 sec)\n",
      "INFO:tensorflow:global_step/sec: 110.003\n",
      "INFO:tensorflow:step = 3401, loss = 1.0742215 (0.909 sec)\n",
      "INFO:tensorflow:global_step/sec: 117.507\n",
      "INFO:tensorflow:step = 3501, loss = 0.46483287 (0.862 sec)\n",
      "INFO:tensorflow:global_step/sec: 114.135\n",
      "INFO:tensorflow:step = 3601, loss = 1.3032784 (0.865 sec)\n",
      "INFO:tensorflow:global_step/sec: 110.308\n",
      "INFO:tensorflow:step = 3701, loss = 4.4742837 (0.908 sec)\n",
      "INFO:tensorflow:global_step/sec: 115.156\n",
      "INFO:tensorflow:step = 3801, loss = 4.896259 (0.867 sec)\n",
      "INFO:tensorflow:global_step/sec: 124.304\n",
      "INFO:tensorflow:step = 3901, loss = 176.86574 (0.805 sec)\n",
      "INFO:tensorflow:global_step/sec: 112.911\n",
      "INFO:tensorflow:step = 4001, loss = 7.175854 (0.885 sec)\n",
      "INFO:tensorflow:global_step/sec: 116.097\n",
      "INFO:tensorflow:step = 4101, loss = 3.078671 (0.868 sec)\n",
      "INFO:tensorflow:global_step/sec: 112.484\n",
      "INFO:tensorflow:step = 4201, loss = 3.3949666 (0.882 sec)\n",
      "INFO:tensorflow:global_step/sec: 112.965\n",
      "INFO:tensorflow:step = 4301, loss = 18.858942 (0.885 sec)\n",
      "INFO:tensorflow:global_step/sec: 115.533\n",
      "INFO:tensorflow:step = 4401, loss = 104.16238 (0.866 sec)\n",
      "INFO:tensorflow:global_step/sec: 115.89\n",
      "INFO:tensorflow:step = 4501, loss = 6.9445686 (0.863 sec)\n",
      "INFO:tensorflow:global_step/sec: 116.083\n",
      "INFO:tensorflow:step = 4601, loss = 1.8574666 (0.862 sec)\n",
      "INFO:tensorflow:global_step/sec: 114.473\n",
      "INFO:tensorflow:step = 4701, loss = 1.8208172 (0.873 sec)\n",
      "INFO:tensorflow:global_step/sec: 112.212\n",
      "INFO:tensorflow:step = 4801, loss = 1.4887456 (0.892 sec)\n",
      "INFO:tensorflow:global_step/sec: 116.471\n",
      "INFO:tensorflow:step = 4901, loss = 6.3991876 (0.865 sec)\n",
      "INFO:tensorflow:global_step/sec: 110.322\n",
      "INFO:tensorflow:step = 5001, loss = 3.5427663 (0.906 sec)\n",
      "INFO:tensorflow:global_step/sec: 111.546\n",
      "INFO:tensorflow:step = 5101, loss = 2.1087558 (0.890 sec)\n",
      "INFO:tensorflow:global_step/sec: 133.411\n",
      "INFO:tensorflow:step = 5201, loss = 5.7037187 (0.755 sec)\n",
      "INFO:tensorflow:global_step/sec: 112.867\n",
      "INFO:tensorflow:step = 5301, loss = 3.77911 (0.880 sec)\n",
      "INFO:tensorflow:global_step/sec: 114.919\n",
      "INFO:tensorflow:step = 5401, loss = 2.47843 (0.870 sec)\n",
      "INFO:tensorflow:global_step/sec: 116.36\n",
      "INFO:tensorflow:step = 5501, loss = 3.41692 (0.859 sec)\n",
      "INFO:tensorflow:global_step/sec: 115.361\n",
      "INFO:tensorflow:step = 5601, loss = 4.2732973 (0.867 sec)\n",
      "INFO:tensorflow:global_step/sec: 119.048\n",
      "INFO:tensorflow:step = 5701, loss = 0.431854 (0.840 sec)\n",
      "INFO:tensorflow:global_step/sec: 118.583\n",
      "INFO:tensorflow:step = 5801, loss = 2.3931274 (0.850 sec)\n",
      "INFO:tensorflow:global_step/sec: 123.924\n",
      "INFO:tensorflow:step = 5901, loss = 3.0137618 (0.801 sec)\n",
      "INFO:tensorflow:global_step/sec: 97.1361\n",
      "INFO:tensorflow:step = 6001, loss = 1.8690456 (1.029 sec)\n",
      "INFO:tensorflow:global_step/sec: 124.607\n",
      "INFO:tensorflow:step = 6101, loss = 4.0265756 (0.809 sec)\n",
      "INFO:tensorflow:global_step/sec: 117.546\n",
      "INFO:tensorflow:step = 6201, loss = 3.201775 (0.844 sec)\n",
      "INFO:tensorflow:global_step/sec: 116.043\n",
      "INFO:tensorflow:step = 6301, loss = 4.8625717 (0.861 sec)\n",
      "INFO:tensorflow:global_step/sec: 91.8842\n",
      "INFO:tensorflow:step = 6401, loss = 0.8059676 (1.096 sec)\n",
      "INFO:tensorflow:global_step/sec: 124.917\n",
      "INFO:tensorflow:step = 6501, loss = 5.4542394 (0.799 sec)\n",
      "INFO:tensorflow:global_step/sec: 105.398\n",
      "INFO:tensorflow:step = 6601, loss = 3.839543 (0.946 sec)\n",
      "INFO:tensorflow:global_step/sec: 105.099\n",
      "INFO:tensorflow:step = 6701, loss = 0.14478734 (0.957 sec)\n",
      "INFO:tensorflow:global_step/sec: 111.266\n",
      "INFO:tensorflow:step = 6801, loss = 9.407265 (0.892 sec)\n",
      "INFO:tensorflow:global_step/sec: 126.471\n",
      "INFO:tensorflow:step = 6901, loss = 11.386186 (0.789 sec)\n",
      "INFO:tensorflow:global_step/sec: 106.308\n",
      "INFO:tensorflow:step = 7001, loss = 2.6159887 (0.954 sec)\n",
      "INFO:tensorflow:global_step/sec: 125.39\n",
      "INFO:tensorflow:step = 7101, loss = 4.151124 (0.801 sec)\n",
      "INFO:tensorflow:global_step/sec: 128.221\n",
      "INFO:tensorflow:step = 7201, loss = 8.939646 (0.771 sec)\n",
      "INFO:tensorflow:global_step/sec: 116.32\n",
      "INFO:tensorflow:step = 7301, loss = 0.5414145 (0.853 sec)\n",
      "INFO:tensorflow:global_step/sec: 114.686\n",
      "INFO:tensorflow:step = 7401, loss = 5.3171473 (0.871 sec)\n",
      "INFO:tensorflow:global_step/sec: 136.7\n",
      "INFO:tensorflow:step = 7501, loss = 2.747618 (0.738 sec)\n",
      "INFO:tensorflow:global_step/sec: 115.444\n",
      "INFO:tensorflow:step = 7601, loss = 1.4354029 (0.859 sec)\n",
      "INFO:tensorflow:global_step/sec: 105.838\n",
      "INFO:tensorflow:step = 7701, loss = 39.741302 (0.945 sec)\n",
      "INFO:tensorflow:global_step/sec: 110.811\n",
      "INFO:tensorflow:step = 7801, loss = 2.9288635 (0.909 sec)\n",
      "INFO:tensorflow:global_step/sec: 101.24\n",
      "INFO:tensorflow:step = 7901, loss = 2.028583 (0.982 sec)\n",
      "INFO:tensorflow:global_step/sec: 101.421\n",
      "INFO:tensorflow:step = 8001, loss = 3.7594793 (0.985 sec)\n",
      "INFO:tensorflow:global_step/sec: 115.548\n",
      "INFO:tensorflow:step = 8101, loss = 5.5785975 (0.865 sec)\n",
      "INFO:tensorflow:global_step/sec: 115.377\n",
      "INFO:tensorflow:step = 8201, loss = 16.961195 (0.867 sec)\n"
     ]
    },
    {
     "name": "stdout",
     "output_type": "stream",
     "text": [
      "INFO:tensorflow:global_step/sec: 127.28\n",
      "INFO:tensorflow:step = 8301, loss = 11.164237 (0.786 sec)\n",
      "INFO:tensorflow:global_step/sec: 117.267\n",
      "INFO:tensorflow:step = 8401, loss = 0.8212528 (0.854 sec)\n",
      "INFO:tensorflow:global_step/sec: 114.405\n",
      "INFO:tensorflow:step = 8501, loss = 5.150383 (0.872 sec)\n",
      "INFO:tensorflow:global_step/sec: 110.494\n",
      "INFO:tensorflow:step = 8601, loss = 6.3765297 (0.912 sec)\n",
      "INFO:tensorflow:global_step/sec: 119.476\n",
      "INFO:tensorflow:step = 8701, loss = 58.404373 (0.830 sec)\n",
      "INFO:tensorflow:global_step/sec: 107.749\n",
      "INFO:tensorflow:step = 8801, loss = 2.964713 (0.929 sec)\n",
      "INFO:tensorflow:global_step/sec: 107.694\n",
      "INFO:tensorflow:step = 8901, loss = 2.4258108 (0.928 sec)\n",
      "INFO:tensorflow:global_step/sec: 108.379\n",
      "INFO:tensorflow:step = 9001, loss = 2.9660406 (0.923 sec)\n",
      "INFO:tensorflow:global_step/sec: 114.01\n",
      "INFO:tensorflow:step = 9101, loss = 1.7141567 (0.890 sec)\n",
      "INFO:tensorflow:global_step/sec: 110.887\n",
      "INFO:tensorflow:step = 9201, loss = 2.0350332 (0.889 sec)\n",
      "INFO:tensorflow:global_step/sec: 131.224\n",
      "INFO:tensorflow:step = 9301, loss = 2.423142 (0.762 sec)\n",
      "INFO:tensorflow:global_step/sec: 134.218\n",
      "INFO:tensorflow:step = 9401, loss = 2.1091778 (0.752 sec)\n",
      "INFO:tensorflow:global_step/sec: 133.397\n",
      "INFO:tensorflow:step = 9501, loss = 117.1841 (0.754 sec)\n",
      "INFO:tensorflow:global_step/sec: 108.857\n",
      "INFO:tensorflow:step = 9601, loss = 3.6950545 (0.907 sec)\n",
      "INFO:tensorflow:global_step/sec: 114.039\n",
      "INFO:tensorflow:step = 9701, loss = 2.2507904 (0.884 sec)\n",
      "INFO:tensorflow:global_step/sec: 116.617\n",
      "INFO:tensorflow:step = 9801, loss = 0.39000058 (0.850 sec)\n",
      "INFO:tensorflow:global_step/sec: 112.779\n",
      "INFO:tensorflow:step = 9901, loss = 1.4035394 (0.887 sec)\n",
      "INFO:tensorflow:Saving checkpoints for 10000 into /tmp/tmpgrldmbrm/model.ckpt.\n",
      "INFO:tensorflow:Loss for final step: 6.4507737.\n"
     ]
    },
    {
     "data": {
      "text/plain": [
       "<tensorflow.python.estimator.canned.linear.LinearClassifier at 0x7f1a7c29c198>"
      ]
     },
     "execution_count": 15,
     "metadata": {},
     "output_type": "execute_result"
    }
   ],
   "source": [
    "model.train(input_func,steps=10000)"
   ]
  },
  {
   "cell_type": "code",
   "execution_count": 16,
   "metadata": {},
   "outputs": [],
   "source": [
    "predict_input_func=tf.estimator.inputs.pandas_input_fn(x=x_test,batch_size=len(x_test),shuffle=False)"
   ]
  },
  {
   "cell_type": "code",
   "execution_count": 17,
   "metadata": {},
   "outputs": [
    {
     "name": "stdout",
     "output_type": "stream",
     "text": [
      "INFO:tensorflow:Restoring parameters from /tmp/tmpgrldmbrm/model.ckpt-10000\n"
     ]
    }
   ],
   "source": [
    "predictions=model.predict(predict_input_func)\n",
    "predictions=list(predictions)"
   ]
  },
  {
   "cell_type": "code",
   "execution_count": 18,
   "metadata": {},
   "outputs": [
    {
     "data": {
      "text/plain": [
       "[0, 0, 0, 0, 1, 0, 0, 0, 0, 0]"
      ]
     },
     "execution_count": 18,
     "metadata": {},
     "output_type": "execute_result"
    }
   ],
   "source": [
    "pred=[]\n",
    "for p in predictions:\n",
    "    pred.append(p['class_ids'][0])\n",
    "pred[:10]"
   ]
  },
  {
   "cell_type": "code",
   "execution_count": 19,
   "metadata": {},
   "outputs": [],
   "source": [
    "from sklearn.metrics import classification_report"
   ]
  },
  {
   "cell_type": "code",
   "execution_count": 20,
   "metadata": {},
   "outputs": [
    {
     "name": "stdout",
     "output_type": "stream",
     "text": [
      "              precision    recall  f1-score   support\n",
      "\n",
      "           0       0.87      0.91      0.89      7436\n",
      "           1       0.67      0.55      0.60      2333\n",
      "\n",
      "   micro avg       0.83      0.83      0.83      9769\n",
      "   macro avg       0.77      0.73      0.75      9769\n",
      "weighted avg       0.82      0.83      0.82      9769\n",
      "\n"
     ]
    }
   ],
   "source": [
    "print(classification_report(y_test,pred))"
   ]
  },
  {
   "cell_type": "markdown",
   "metadata": {},
   "source": [
    "### Till here, I have trained a Linear Classifier model to get the result. Now I will train with a DNNClassifier. For that I have embedded the categorical feature columns"
   ]
  },
  {
   "cell_type": "code",
   "execution_count": 25,
   "metadata": {},
   "outputs": [],
   "source": [
    "e_workclass=tf.feature_column.embedding_column(workclass,dimension=1000)\n",
    "e_education=tf.feature_column.embedding_column(education,dimension=1000)\n",
    "e_married=tf.feature_column.embedding_column(married,dimension=1000)\n",
    "e_occupation=tf.feature_column.embedding_column(occupation,dimension=1000)\n",
    "e_relationship=tf.feature_column.embedding_column(relationship,dimension=1000)\n",
    "e_gender=tf.feature_column.embedding_column(gender,dimension=1000)\n",
    "e_native=tf.feature_column.embedding_column(native,dimension=1000)"
   ]
  },
  {
   "cell_type": "code",
   "execution_count": 26,
   "metadata": {},
   "outputs": [],
   "source": [
    "feat_cols=[age,e_workclass,e_education,edu_num,e_married,e_occupation,e_relationship,\n",
    "           e_gender,cap_gain,cap_loss,hours,e_native]"
   ]
  },
  {
   "cell_type": "code",
   "execution_count": 27,
   "metadata": {},
   "outputs": [],
   "source": [
    "input_func=tf.estimator.inputs.pandas_input_fn(x=x_train,y=y_train,batch_size=10,num_epochs=None\n",
    "                            ,shuffle=True)"
   ]
  },
  {
   "cell_type": "code",
   "execution_count": 47,
   "metadata": {},
   "outputs": [
    {
     "name": "stdout",
     "output_type": "stream",
     "text": [
      "INFO:tensorflow:Using default config.\n",
      "WARNING:tensorflow:Using temporary folder as model directory: /tmp/tmpg5zxswbu\n",
      "INFO:tensorflow:Using config: {'_session_config': None, '_save_checkpoints_secs': 600, '_save_summary_steps': 100, '_keep_checkpoint_every_n_hours': 10000, '_log_step_count_steps': 100, '_tf_random_seed': 1, '_save_checkpoints_steps': None, '_model_dir': '/tmp/tmpg5zxswbu', '_keep_checkpoint_max': 5}\n"
     ]
    }
   ],
   "source": [
    "dnn_model=tf.estimator.DNNClassifier(feature_columns=feat_cols,hidden_units=[12,12,12,12,12,12,12,12,12,12,12,12])"
   ]
  },
  {
   "cell_type": "code",
   "execution_count": 48,
   "metadata": {},
   "outputs": [
    {
     "name": "stdout",
     "output_type": "stream",
     "text": [
      "INFO:tensorflow:Create CheckpointSaverHook.\n",
      "INFO:tensorflow:Restoring parameters from /tmp/tmpgrldmbrm/model.ckpt-13000\n",
      "INFO:tensorflow:Saving checkpoints for 13001 into /tmp/tmpgrldmbrm/model.ckpt.\n",
      "INFO:tensorflow:step = 13001, loss = 3.5553646\n",
      "INFO:tensorflow:global_step/sec: 99.3155\n",
      "INFO:tensorflow:step = 13101, loss = 6.4361353 (1.009 sec)\n",
      "INFO:tensorflow:global_step/sec: 113.152\n",
      "INFO:tensorflow:step = 13201, loss = 36.833813 (0.884 sec)\n",
      "INFO:tensorflow:global_step/sec: 112.883\n",
      "INFO:tensorflow:step = 13301, loss = 7.8422575 (0.885 sec)\n",
      "INFO:tensorflow:global_step/sec: 119.332\n",
      "INFO:tensorflow:step = 13401, loss = 10.384599 (0.838 sec)\n",
      "INFO:tensorflow:global_step/sec: 129.754\n",
      "INFO:tensorflow:step = 13501, loss = 4.966366 (0.771 sec)\n",
      "INFO:tensorflow:global_step/sec: 117.82\n",
      "INFO:tensorflow:step = 13601, loss = 4.5736885 (0.849 sec)\n",
      "INFO:tensorflow:global_step/sec: 112.302\n",
      "INFO:tensorflow:step = 13701, loss = 3.9624343 (0.891 sec)\n",
      "INFO:tensorflow:global_step/sec: 104.691\n",
      "INFO:tensorflow:step = 13801, loss = 2.9186077 (0.968 sec)\n",
      "INFO:tensorflow:global_step/sec: 112.927\n",
      "INFO:tensorflow:step = 13901, loss = 4.4447503 (0.876 sec)\n",
      "INFO:tensorflow:global_step/sec: 104.97\n",
      "INFO:tensorflow:step = 14001, loss = 87.97337 (0.970 sec)\n",
      "INFO:tensorflow:global_step/sec: 100.749\n",
      "INFO:tensorflow:step = 14101, loss = 4.025265 (0.977 sec)\n",
      "INFO:tensorflow:global_step/sec: 132.77\n",
      "INFO:tensorflow:step = 14201, loss = 3.6851482 (0.760 sec)\n",
      "INFO:tensorflow:global_step/sec: 121.879\n",
      "INFO:tensorflow:step = 14301, loss = 48.068985 (0.808 sec)\n",
      "INFO:tensorflow:global_step/sec: 113.532\n",
      "INFO:tensorflow:step = 14401, loss = 3.413912 (0.880 sec)\n",
      "INFO:tensorflow:global_step/sec: 117.117\n",
      "INFO:tensorflow:step = 14501, loss = 3.941722 (0.854 sec)\n",
      "INFO:tensorflow:global_step/sec: 104.749\n",
      "INFO:tensorflow:step = 14601, loss = 6.4753118 (0.974 sec)\n",
      "INFO:tensorflow:global_step/sec: 98.2455\n",
      "INFO:tensorflow:step = 14701, loss = 2.431315 (0.999 sec)\n",
      "INFO:tensorflow:global_step/sec: 109.796\n",
      "INFO:tensorflow:step = 14801, loss = 12.948052 (0.910 sec)\n",
      "INFO:tensorflow:global_step/sec: 104.732\n",
      "INFO:tensorflow:step = 14901, loss = 3.5667934 (0.955 sec)\n",
      "INFO:tensorflow:global_step/sec: 111.111\n",
      "INFO:tensorflow:step = 15001, loss = 3.7873447 (0.900 sec)\n",
      "INFO:tensorflow:global_step/sec: 132.241\n",
      "INFO:tensorflow:step = 15101, loss = 2.6053429 (0.764 sec)\n",
      "INFO:tensorflow:global_step/sec: 109.546\n",
      "INFO:tensorflow:step = 15201, loss = 26.225523 (0.905 sec)\n",
      "INFO:tensorflow:global_step/sec: 112.119\n",
      "INFO:tensorflow:step = 15301, loss = 2.2614114 (0.899 sec)\n",
      "INFO:tensorflow:global_step/sec: 114.598\n",
      "INFO:tensorflow:step = 15401, loss = 2.385366 (0.883 sec)\n",
      "INFO:tensorflow:global_step/sec: 116.599\n",
      "INFO:tensorflow:step = 15501, loss = 7.3588276 (0.841 sec)\n",
      "INFO:tensorflow:global_step/sec: 113.825\n",
      "INFO:tensorflow:step = 15601, loss = 39.725914 (0.878 sec)\n",
      "INFO:tensorflow:global_step/sec: 113.354\n",
      "INFO:tensorflow:step = 15701, loss = 5.318966 (0.882 sec)\n",
      "INFO:tensorflow:global_step/sec: 111.756\n",
      "INFO:tensorflow:step = 15801, loss = 10.104599 (0.895 sec)\n",
      "INFO:tensorflow:global_step/sec: 113.861\n",
      "INFO:tensorflow:step = 15901, loss = 4.363623 (0.884 sec)\n",
      "INFO:tensorflow:global_step/sec: 108.64\n",
      "INFO:tensorflow:step = 16001, loss = 81.920235 (0.915 sec)\n",
      "INFO:tensorflow:global_step/sec: 115.458\n",
      "INFO:tensorflow:step = 16101, loss = 2.7230868 (0.867 sec)\n",
      "INFO:tensorflow:global_step/sec: 129.351\n",
      "INFO:tensorflow:step = 16201, loss = 5.180979 (0.772 sec)\n",
      "INFO:tensorflow:global_step/sec: 120.207\n",
      "INFO:tensorflow:step = 16301, loss = 2.1861768 (0.840 sec)\n",
      "INFO:tensorflow:global_step/sec: 108.275\n",
      "INFO:tensorflow:step = 16401, loss = 1.2252988 (0.916 sec)\n",
      "INFO:tensorflow:global_step/sec: 119.595\n",
      "INFO:tensorflow:step = 16501, loss = 19.916567 (0.836 sec)\n",
      "INFO:tensorflow:global_step/sec: 124.652\n",
      "INFO:tensorflow:step = 16601, loss = 10.82786 (0.803 sec)\n",
      "INFO:tensorflow:global_step/sec: 120.923\n",
      "INFO:tensorflow:step = 16701, loss = 6.0561686 (0.840 sec)\n",
      "INFO:tensorflow:global_step/sec: 107.768\n",
      "INFO:tensorflow:step = 16801, loss = 2.1639843 (0.914 sec)\n",
      "INFO:tensorflow:global_step/sec: 108.845\n",
      "INFO:tensorflow:step = 16901, loss = 6.3924336 (0.919 sec)\n",
      "INFO:tensorflow:global_step/sec: 129.756\n",
      "INFO:tensorflow:step = 17001, loss = 5.4709663 (0.785 sec)\n",
      "INFO:tensorflow:global_step/sec: 118.078\n",
      "INFO:tensorflow:step = 17101, loss = 2.6216 (0.848 sec)\n",
      "INFO:tensorflow:global_step/sec: 107.494\n",
      "INFO:tensorflow:step = 17201, loss = 3.6112733 (0.916 sec)\n",
      "INFO:tensorflow:global_step/sec: 112.767\n",
      "INFO:tensorflow:step = 17301, loss = 8.717345 (0.887 sec)\n",
      "INFO:tensorflow:global_step/sec: 108.779\n",
      "INFO:tensorflow:step = 17401, loss = 5.5499644 (0.922 sec)\n",
      "INFO:tensorflow:global_step/sec: 108.464\n",
      "INFO:tensorflow:step = 17501, loss = 0.097662844 (0.919 sec)\n",
      "INFO:tensorflow:global_step/sec: 114.969\n",
      "INFO:tensorflow:step = 17601, loss = 2.5007634 (0.877 sec)\n",
      "INFO:tensorflow:global_step/sec: 107.606\n",
      "INFO:tensorflow:step = 17701, loss = 3.1406133 (0.922 sec)\n",
      "INFO:tensorflow:global_step/sec: 108.691\n",
      "INFO:tensorflow:step = 17801, loss = 0.9101548 (0.920 sec)\n",
      "INFO:tensorflow:global_step/sec: 122.656\n",
      "INFO:tensorflow:step = 17901, loss = 0.9640927 (0.815 sec)\n",
      "INFO:tensorflow:Saving checkpoints for 18000 into /tmp/tmpgrldmbrm/model.ckpt.\n",
      "INFO:tensorflow:Loss for final step: 8.559283.\n"
     ]
    },
    {
     "data": {
      "text/plain": [
       "<tensorflow.python.estimator.canned.linear.LinearClassifier at 0x7f1a7c29c198>"
      ]
     },
     "execution_count": 48,
     "metadata": {},
     "output_type": "execute_result"
    }
   ],
   "source": [
    "model.train(input_func,steps=5000)"
   ]
  },
  {
   "cell_type": "code",
   "execution_count": 49,
   "metadata": {},
   "outputs": [],
   "source": [
    "predict_input_func=tf.estimator.inputs.pandas_input_fn(x=x_test,batch_size=len(x_test),shuffle=False)"
   ]
  },
  {
   "cell_type": "code",
   "execution_count": 50,
   "metadata": {},
   "outputs": [
    {
     "name": "stdout",
     "output_type": "stream",
     "text": [
      "INFO:tensorflow:Restoring parameters from /tmp/tmpgrldmbrm/model.ckpt-18000\n"
     ]
    }
   ],
   "source": [
    "predictions=model.predict(predict_input_func)\n",
    "predictions=list(predictions)"
   ]
  },
  {
   "cell_type": "code",
   "execution_count": 51,
   "metadata": {},
   "outputs": [
    {
     "data": {
      "text/plain": [
       "[0, 0, 0, 0, 1, 0, 0, 0, 0, 0]"
      ]
     },
     "execution_count": 51,
     "metadata": {},
     "output_type": "execute_result"
    }
   ],
   "source": [
    "pred=[]\n",
    "for p in predictions:\n",
    "    pred.append(p['class_ids'][0])\n",
    "pred[:10]"
   ]
  },
  {
   "cell_type": "code",
   "execution_count": 52,
   "metadata": {},
   "outputs": [
    {
     "name": "stdout",
     "output_type": "stream",
     "text": [
      "              precision    recall  f1-score   support\n",
      "\n",
      "           0       0.89      0.90      0.89      7436\n",
      "           1       0.67      0.65      0.66      2333\n",
      "\n",
      "   micro avg       0.84      0.84      0.84      9769\n",
      "   macro avg       0.78      0.77      0.78      9769\n",
      "weighted avg       0.84      0.84      0.84      9769\n",
      "\n"
     ]
    }
   ],
   "source": [
    "print(classification_report(y_test,pred))"
   ]
  },
  {
   "cell_type": "code",
   "execution_count": null,
   "metadata": {},
   "outputs": [],
   "source": []
  }
 ],
 "metadata": {
  "kernelspec": {
   "display_name": "Python 3",
   "language": "python",
   "name": "python3"
  },
  "language_info": {
   "codemirror_mode": {
    "name": "ipython",
    "version": 3
   },
   "file_extension": ".py",
   "mimetype": "text/x-python",
   "name": "python",
   "nbconvert_exporter": "python",
   "pygments_lexer": "ipython3",
   "version": "3.5.6"
  }
 },
 "nbformat": 4,
 "nbformat_minor": 4
}
