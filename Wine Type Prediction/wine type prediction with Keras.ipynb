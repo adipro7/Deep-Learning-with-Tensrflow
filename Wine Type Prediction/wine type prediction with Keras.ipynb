{
 "cells": [
  {
   "cell_type": "markdown",
   "metadata": {},
   "source": [
    "# Deep Learning Model for Wine Classification using SK Learn Data Set using Keras"
   ]
  },
  {
   "cell_type": "code",
   "execution_count": 1,
   "metadata": {},
   "outputs": [],
   "source": [
    "from sklearn.datasets import load_wine"
   ]
  },
  {
   "cell_type": "code",
   "execution_count": 2,
   "metadata": {},
   "outputs": [],
   "source": [
    "wine_data=load_wine()"
   ]
  },
  {
   "cell_type": "code",
   "execution_count": 3,
   "metadata": {},
   "outputs": [],
   "source": [
    "feat_data=wine_data['data']"
   ]
  },
  {
   "cell_type": "code",
   "execution_count": 4,
   "metadata": {},
   "outputs": [],
   "source": [
    "labels=wine_data['target']"
   ]
  },
  {
   "cell_type": "code",
   "execution_count": 5,
   "metadata": {},
   "outputs": [],
   "source": [
    "from sklearn.preprocessing import MinMaxScaler\n",
    "from sklearn.model_selection import train_test_split"
   ]
  },
  {
   "cell_type": "code",
   "execution_count": 6,
   "metadata": {},
   "outputs": [],
   "source": [
    "x_train,x_test,y_train,y_test=train_test_split(feat_data,\n",
    "                        labels,test_size=0.3,random_state=69)"
   ]
  },
  {
   "cell_type": "code",
   "execution_count": 7,
   "metadata": {},
   "outputs": [],
   "source": [
    "scaler=MinMaxScaler()"
   ]
  },
  {
   "cell_type": "code",
   "execution_count": 8,
   "metadata": {},
   "outputs": [],
   "source": [
    "scaled_x_train=scaler.fit_transform(x_train)"
   ]
  },
  {
   "cell_type": "code",
   "execution_count": 9,
   "metadata": {},
   "outputs": [],
   "source": [
    "scaled_x_test=scaler.transform(x_test)"
   ]
  },
  {
   "cell_type": "code",
   "execution_count": 10,
   "metadata": {},
   "outputs": [],
   "source": [
    "import tensorflow as tf"
   ]
  },
  {
   "cell_type": "code",
   "execution_count": 11,
   "metadata": {},
   "outputs": [],
   "source": [
    "from tensorflow.contrib.keras import models"
   ]
  },
  {
   "cell_type": "code",
   "execution_count": 12,
   "metadata": {},
   "outputs": [],
   "source": [
    "dnn_keras_model=models.Sequential()"
   ]
  },
  {
   "cell_type": "code",
   "execution_count": 13,
   "metadata": {},
   "outputs": [],
   "source": [
    "from tensorflow.contrib.keras import layers"
   ]
  },
  {
   "cell_type": "code",
   "execution_count": 14,
   "metadata": {},
   "outputs": [],
   "source": [
    "dnn_keras_model.add(layers.Dense(units=13,input_dim=13, activation='relu')) "
   ]
  },
  {
   "cell_type": "code",
   "execution_count": 15,
   "metadata": {},
   "outputs": [],
   "source": [
    "dnn_keras_model.add(layers.Dense(units=13,activation='relu'))"
   ]
  },
  {
   "cell_type": "code",
   "execution_count": 16,
   "metadata": {},
   "outputs": [],
   "source": [
    "dnn_keras_model.add(layers.Dense(units=13,activation='relu'))"
   ]
  },
  {
   "cell_type": "code",
   "execution_count": 17,
   "metadata": {},
   "outputs": [],
   "source": [
    "dnn_keras_model.add(layers.Dense(units=3,activation='softmax'))"
   ]
  },
  {
   "cell_type": "code",
   "execution_count": 18,
   "metadata": {},
   "outputs": [],
   "source": [
    "from tensorflow.contrib.keras import losses,optimizers,activations,metrics"
   ]
  },
  {
   "cell_type": "code",
   "execution_count": 22,
   "metadata": {},
   "outputs": [],
   "source": [
    "dnn_keras_model.compile(optimizer='adam',\n",
    "    loss='sparse_categorical_crossentropy',metrics=['accuracy'])"
   ]
  },
  {
   "cell_type": "code",
   "execution_count": 27,
   "metadata": {},
   "outputs": [
    {
     "name": "stdout",
     "output_type": "stream",
     "text": [
      "Epoch 1/100\n",
      "124/124 [==============================] - 0s - loss: 0.1471 - acc: 0.9758     \n",
      "Epoch 2/100\n",
      "124/124 [==============================] - 0s - loss: 0.1407 - acc: 0.9758     \n",
      "Epoch 3/100\n",
      "124/124 [==============================] - 0s - loss: 0.1352 - acc: 0.9758     \n",
      "Epoch 4/100\n",
      "124/124 [==============================] - 0s - loss: 0.1296 - acc: 0.9758     \n",
      "Epoch 5/100\n",
      "124/124 [==============================] - 0s - loss: 0.1246 - acc: 0.9758     \n",
      "Epoch 6/100\n",
      "124/124 [==============================] - 0s - loss: 0.1205 - acc: 0.9758     \n",
      "Epoch 7/100\n",
      "124/124 [==============================] - 0s - loss: 0.1164 - acc: 0.9758     \n",
      "Epoch 8/100\n",
      "124/124 [==============================] - 0s - loss: 0.1124 - acc: 0.9758     \n",
      "Epoch 9/100\n",
      "124/124 [==============================] - 0s - loss: 0.1079 - acc: 0.9758     \n",
      "Epoch 10/100\n",
      "124/124 [==============================] - 0s - loss: 0.1046 - acc: 0.9758     \n",
      "Epoch 11/100\n",
      "124/124 [==============================] - 0s - loss: 0.1009 - acc: 0.9758     \n",
      "Epoch 12/100\n",
      "124/124 [==============================] - 0s - loss: 0.0980 - acc: 0.9758     \n",
      "Epoch 13/100\n",
      "124/124 [==============================] - 0s - loss: 0.0952 - acc: 0.9839     \n",
      "Epoch 14/100\n",
      "124/124 [==============================] - 0s - loss: 0.0921 - acc: 0.9839     \n",
      "Epoch 15/100\n",
      "124/124 [==============================] - ETA: 0s - loss: 0.0827 - acc: 1.000 - 0s - loss: 0.0893 - acc: 0.9839     \n",
      "Epoch 16/100\n",
      "124/124 [==============================] - 0s - loss: 0.0869 - acc: 0.9839     \n",
      "Epoch 17/100\n",
      "124/124 [==============================] - 0s - loss: 0.0845 - acc: 0.9919     \n",
      "Epoch 18/100\n",
      "124/124 [==============================] - 0s - loss: 0.0822 - acc: 0.9919     \n",
      "Epoch 19/100\n",
      "124/124 [==============================] - 0s - loss: 0.0797 - acc: 0.9919     \n",
      "Epoch 20/100\n",
      "124/124 [==============================] - 0s - loss: 0.0780 - acc: 0.9919     \n",
      "Epoch 21/100\n",
      "124/124 [==============================] - 0s - loss: 0.0762 - acc: 0.9919     \n",
      "Epoch 22/100\n",
      "124/124 [==============================] - 0s - loss: 0.0735 - acc: 0.9919     \n",
      "Epoch 23/100\n",
      "124/124 [==============================] - 0s - loss: 0.0724 - acc: 0.9919     \n",
      "Epoch 24/100\n",
      "124/124 [==============================] - 0s - loss: 0.0710 - acc: 0.9919     \n",
      "Epoch 25/100\n",
      "124/124 [==============================] - 0s - loss: 0.0690 - acc: 0.9919     \n",
      "Epoch 26/100\n",
      "124/124 [==============================] - 0s - loss: 0.0667 - acc: 0.9919     \n",
      "Epoch 27/100\n",
      "124/124 [==============================] - 0s - loss: 0.0653 - acc: 0.9919     \n",
      "Epoch 28/100\n",
      "124/124 [==============================] - 0s - loss: 0.0652 - acc: 0.9919     \n",
      "Epoch 29/100\n",
      "124/124 [==============================] - 0s - loss: 0.0623 - acc: 1.0000     \n",
      "Epoch 30/100\n",
      "124/124 [==============================] - 0s - loss: 0.0607 - acc: 1.0000     \n",
      "Epoch 31/100\n",
      "124/124 [==============================] - 0s - loss: 0.0600 - acc: 1.0000     \n",
      "Epoch 32/100\n",
      "124/124 [==============================] - 0s - loss: 0.0585 - acc: 1.0000     \n",
      "Epoch 33/100\n",
      "124/124 [==============================] - 0s - loss: 0.0574 - acc: 1.0000     \n",
      "Epoch 34/100\n",
      "124/124 [==============================] - 0s - loss: 0.0562 - acc: 1.0000     \n",
      "Epoch 35/100\n",
      "124/124 [==============================] - 0s - loss: 0.0549 - acc: 1.0000     \n",
      "Epoch 36/100\n",
      "124/124 [==============================] - 0s - loss: 0.0536 - acc: 1.0000     \n",
      "Epoch 37/100\n",
      "124/124 [==============================] - 0s - loss: 0.0524 - acc: 1.0000     \n",
      "Epoch 38/100\n",
      "124/124 [==============================] - 0s - loss: 0.0517 - acc: 1.0000     \n",
      "Epoch 39/100\n",
      "124/124 [==============================] - 0s - loss: 0.0513 - acc: 1.0000     \n",
      "Epoch 40/100\n",
      "124/124 [==============================] - 0s - loss: 0.0495 - acc: 1.0000     \n",
      "Epoch 41/100\n",
      "124/124 [==============================] - 0s - loss: 0.0485 - acc: 1.0000     \n",
      "Epoch 42/100\n",
      "124/124 [==============================] - 0s - loss: 0.0487 - acc: 1.0000     \n",
      "Epoch 43/100\n",
      "124/124 [==============================] - 0s - loss: 0.0466 - acc: 1.0000     \n",
      "Epoch 44/100\n",
      "124/124 [==============================] - 0s - loss: 0.0467 - acc: 1.0000     \n",
      "Epoch 45/100\n",
      "124/124 [==============================] - 0s - loss: 0.0452 - acc: 1.0000     \n",
      "Epoch 46/100\n",
      "124/124 [==============================] - 0s - loss: 0.0439 - acc: 1.0000     \n",
      "Epoch 47/100\n",
      "124/124 [==============================] - 0s - loss: 0.0434 - acc: 1.0000     \n",
      "Epoch 48/100\n",
      "124/124 [==============================] - 0s - loss: 0.0426 - acc: 1.0000     \n",
      "Epoch 49/100\n",
      "124/124 [==============================] - 0s - loss: 0.0418 - acc: 1.0000     \n",
      "Epoch 50/100\n",
      "124/124 [==============================] - 0s - loss: 0.0408 - acc: 1.0000     \n",
      "Epoch 51/100\n",
      "124/124 [==============================] - 0s - loss: 0.0408 - acc: 1.0000     \n",
      "Epoch 52/100\n",
      "124/124 [==============================] - 0s - loss: 0.0394 - acc: 1.0000     \n",
      "Epoch 53/100\n",
      "124/124 [==============================] - 0s - loss: 0.0398 - acc: 1.0000     \n",
      "Epoch 54/100\n",
      "124/124 [==============================] - 0s - loss: 0.0384 - acc: 1.0000     \n",
      "Epoch 55/100\n",
      "124/124 [==============================] - 0s - loss: 0.0385 - acc: 1.0000     \n",
      "Epoch 56/100\n",
      "124/124 [==============================] - 0s - loss: 0.0369 - acc: 1.0000     \n",
      "Epoch 57/100\n",
      "124/124 [==============================] - 0s - loss: 0.0362 - acc: 1.0000     \n",
      "Epoch 58/100\n",
      "124/124 [==============================] - 0s - loss: 0.0356 - acc: 1.0000     \n",
      "Epoch 59/100\n",
      "124/124 [==============================] - 0s - loss: 0.0355 - acc: 1.0000     \n",
      "Epoch 60/100\n",
      "124/124 [==============================] - 0s - loss: 0.0344 - acc: 1.0000     \n",
      "Epoch 61/100\n",
      "124/124 [==============================] - 0s - loss: 0.0337 - acc: 1.0000     \n",
      "Epoch 62/100\n",
      "124/124 [==============================] - 0s - loss: 0.0337 - acc: 1.0000     \n",
      "Epoch 63/100\n",
      "124/124 [==============================] - 0s - loss: 0.0335 - acc: 1.0000     \n",
      "Epoch 64/100\n",
      "124/124 [==============================] - 0s - loss: 0.0324 - acc: 1.0000     \n",
      "Epoch 65/100\n",
      "124/124 [==============================] - 0s - loss: 0.0315 - acc: 1.0000     \n",
      "Epoch 66/100\n",
      "124/124 [==============================] - 0s - loss: 0.0311 - acc: 1.0000     \n",
      "Epoch 67/100\n",
      "124/124 [==============================] - 0s - loss: 0.0308 - acc: 1.0000     \n",
      "Epoch 68/100\n",
      "124/124 [==============================] - 0s - loss: 0.0301 - acc: 1.0000     \n",
      "Epoch 69/100\n",
      "124/124 [==============================] - 0s - loss: 0.0296 - acc: 1.0000     \n",
      "Epoch 70/100\n",
      "124/124 [==============================] - 0s - loss: 0.0293 - acc: 1.0000     \n",
      "Epoch 71/100\n",
      "124/124 [==============================] - 0s - loss: 0.0288 - acc: 1.0000     \n",
      "Epoch 72/100\n",
      "124/124 [==============================] - 0s - loss: 0.0283 - acc: 1.0000     \n",
      "Epoch 73/100\n",
      "124/124 [==============================] - 0s - loss: 0.0279 - acc: 1.0000     \n",
      "Epoch 74/100\n",
      "124/124 [==============================] - 0s - loss: 0.0274 - acc: 1.0000     \n",
      "Epoch 75/100\n",
      "124/124 [==============================] - 0s - loss: 0.0270 - acc: 1.0000     \n",
      "Epoch 76/100\n",
      "124/124 [==============================] - 0s - loss: 0.0265 - acc: 1.0000     \n",
      "Epoch 77/100\n",
      "124/124 [==============================] - 0s - loss: 0.0264 - acc: 1.0000     \n",
      "Epoch 78/100\n",
      "124/124 [==============================] - 0s - loss: 0.0258 - acc: 1.0000     \n",
      "Epoch 79/100\n",
      "124/124 [==============================] - 0s - loss: 0.0254 - acc: 1.0000     \n",
      "Epoch 80/100\n",
      "124/124 [==============================] - 0s - loss: 0.0260 - acc: 1.0000     \n",
      "Epoch 81/100\n",
      "124/124 [==============================] - 0s - loss: 0.0250 - acc: 1.0000     \n",
      "Epoch 82/100\n",
      "124/124 [==============================] - 0s - loss: 0.0243 - acc: 1.0000     \n",
      "Epoch 83/100\n",
      "124/124 [==============================] - 0s - loss: 0.0239 - acc: 1.0000     \n",
      "Epoch 84/100\n",
      "124/124 [==============================] - 0s - loss: 0.0241 - acc: 1.0000     \n",
      "Epoch 85/100\n",
      "124/124 [==============================] - 0s - loss: 0.0231 - acc: 1.0000     \n",
      "Epoch 86/100\n",
      "124/124 [==============================] - 0s - loss: 0.0229 - acc: 1.0000     \n",
      "Epoch 87/100\n",
      "124/124 [==============================] - 0s - loss: 0.0226 - acc: 1.0000     \n",
      "Epoch 88/100\n"
     ]
    },
    {
     "name": "stdout",
     "output_type": "stream",
     "text": [
      "124/124 [==============================] - 0s - loss: 0.0228 - acc: 1.0000     \n",
      "Epoch 89/100\n",
      "124/124 [==============================] - 0s - loss: 0.0219 - acc: 1.0000     \n",
      "Epoch 90/100\n",
      "124/124 [==============================] - 0s - loss: 0.0216 - acc: 1.0000     \n",
      "Epoch 91/100\n",
      "124/124 [==============================] - 0s - loss: 0.0222 - acc: 1.0000     \n",
      "Epoch 92/100\n",
      "124/124 [==============================] - 0s - loss: 0.0208 - acc: 1.0000     \n",
      "Epoch 93/100\n",
      "124/124 [==============================] - 0s - loss: 0.0210 - acc: 1.0000     \n",
      "Epoch 94/100\n",
      "124/124 [==============================] - 0s - loss: 0.0205 - acc: 1.0000     \n",
      "Epoch 95/100\n",
      "124/124 [==============================] - 0s - loss: 0.0198 - acc: 1.0000     \n",
      "Epoch 96/100\n",
      "124/124 [==============================] - 0s - loss: 0.0201 - acc: 1.0000     \n",
      "Epoch 97/100\n",
      "124/124 [==============================] - 0s - loss: 0.0197 - acc: 1.0000     \n",
      "Epoch 98/100\n",
      "124/124 [==============================] - 0s - loss: 0.0191 - acc: 1.0000     \n",
      "Epoch 99/100\n",
      "124/124 [==============================] - 0s - loss: 0.0187 - acc: 1.0000     \n",
      "Epoch 100/100\n",
      "124/124 [==============================] - 0s - loss: 0.0191 - acc: 1.0000     \n"
     ]
    },
    {
     "data": {
      "text/plain": [
       "<tensorflow.contrib.keras.python.keras.callbacks.History at 0x7f16ad2f5da0>"
      ]
     },
     "execution_count": 27,
     "metadata": {},
     "output_type": "execute_result"
    }
   ],
   "source": [
    "dnn_keras_model.fit(scaled_x_train,y_train,epochs=100)"
   ]
  },
  {
   "cell_type": "code",
   "execution_count": 28,
   "metadata": {},
   "outputs": [
    {
     "name": "stdout",
     "output_type": "stream",
     "text": [
      "\r",
      "32/54 [================>.............] - ETA: 0s"
     ]
    }
   ],
   "source": [
    "predictions=dnn_keras_model.predict_classes(scaled_x_test)"
   ]
  },
  {
   "cell_type": "code",
   "execution_count": 32,
   "metadata": {},
   "outputs": [
    {
     "ename": "SyntaxError",
     "evalue": "invalid syntax (<ipython-input-32-effe81badb5c>, line 5)",
     "output_type": "error",
     "traceback": [
      "\u001b[0;36m  File \u001b[0;32m\"<ipython-input-32-effe81badb5c>\"\u001b[0;36m, line \u001b[0;32m5\u001b[0m\n\u001b[0;31m    if(y_test[i]==predictions[i])\u001b[0m\n\u001b[0m                                 ^\u001b[0m\n\u001b[0;31mSyntaxError\u001b[0m\u001b[0;31m:\u001b[0m invalid syntax\n"
     ]
    }
   ],
   "source": [
    "from sklearn.metrics import classification_report\n",
    "print(classification_report(predictions,y_test))\n",
    "acc=0\n",
    "for i in range(len(y_test)):\n",
    "    if(y_test[i]==predictions[i])\n",
    "    acc+=1;\n",
    "print(\"Accuracy={}%\".format(acc/len(y_test)))"
   ]
  },
  {
   "cell_type": "code",
   "execution_count": null,
   "metadata": {},
   "outputs": [],
   "source": []
  }
 ],
 "metadata": {
  "kernelspec": {
   "display_name": "Python 3",
   "language": "python",
   "name": "python3"
  },
  "language_info": {
   "codemirror_mode": {
    "name": "ipython",
    "version": 3
   },
   "file_extension": ".py",
   "mimetype": "text/x-python",
   "name": "python",
   "nbconvert_exporter": "python",
   "pygments_lexer": "ipython3",
   "version": "3.5.6"
  }
 },
 "nbformat": 4,
 "nbformat_minor": 4
}
